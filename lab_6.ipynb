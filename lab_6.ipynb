{
 "cells": [
  {
   "cell_type": "markdown",
   "metadata": {},
   "source": [
    "### Тема: Решение систем линейных уравнений\n",
    "\n",
    "**Выполнил**: Лежнин Максим Витальевич (ПМ-21)\n",
    "\n",
    "**Преподаватель**: Гурьянов М.А., кафедра ВМ-1\n",
    "\n",
    "###### Лабораторная работа № **6**, вариант № **23**\n",
    "\n",
    "###### Весенний семестр, 2023 год\n",
    "\n",
    "###### МИЭТ, Зеленоград"
   ]
  },
  {
   "cell_type": "markdown",
   "metadata": {},
   "source": [
    "# Теоретическая справка"
   ]
  },
  {
   "cell_type": "markdown",
   "metadata": {},
   "source": [
    "#### Методы решения СЛАУ\n",
    "Пусть требуется найти решение системы:\n",
    "$$\n",
    "\\begin{cases}\n",
    "a_{11}x_1 + a_{12}x_2 + ... + a_{1n}x_n = f_1, \\\\\n",
    "a_{21}x_1 + a_{22}x_2 + ... + a_{2n}x_n = f_2, \\\\\n",
    "... \\\\\n",
    "a_{n1}x_1 + a_{n2}x_2 + ... + a_{nn}x_n = f_n\n",
    "\\end{cases}\n",
    "$$\n",
    "\n",
    "Или в компактной (векторной) форме: $A \\times X = F$.\n",
    "Мы будем счиать, что $\\Delta = \\det{A} \\neq 0$, то есть решение системы существует и единственно.\n",
    "\n",
    "Для решения СЛАУ существуют разные методы. Например метод Крамера. Но метод Крамера оказывается неэффективным для больших систем. Рассмотрим более эффективный метод Гаусса."
   ]
  },
  {
   "cell_type": "markdown",
   "metadata": {},
   "source": [
    "#### Метод Гаусса\n",
    "Метод состоит из прямого и обратного хода.\n",
    "\n",
    "В прямом ходе система уравнений с помощью элементарных преобразований строк матрицы приводится к верхнетреугольному виду. Проще объяснить работу метода на примере системы из 3 уравнений:\n",
    "$\n",
    "\\left(\n",
    "\\begin{array}{ccc|c}\n",
    "a_{11} & a_{12} & a_{13} & f_1 \\\\\n",
    "a_{21} & a_{22} & a_{23} & f_2 \\\\\n",
    "a_{31} & a_{32} & a_{33} & f_3 \\\\\n",
    "\\end{array}\n",
    "\\right)\n",
    "\\to\n",
    "\\left(\n",
    "\\begin{array}{ccc|c}\n",
    "a_{11} & a_{12} & a_{13} & f_1 \\\\\n",
    "0 & a_{22}^{(1)} & a_{23}^{(1)} & f_2^{(1)} \\\\\n",
    "0 & a_{32}^{(1)} & a_{33}^{(1)} & f_3^{(1)} \\\\\n",
    "\\end{array}\n",
    "\\right)\n",
    "\\to\n",
    "\\left(\n",
    "\\begin{array}{ccc|c}\n",
    "a_{11} & a_{12} & a_{13} & f_1 \\\\\n",
    "0 & a_{22}^{(1)} & a_{23}^{(1)} & f_2^{(1)} \\\\\n",
    "0 & 0 & a_{33}^{(2)} & f_3^{(2)} \\\\\n",
    "\\end{array}\n",
    "\\right)\n",
    "$\n",
    "\n",
    "Однако порядок последовательного исключения переменных может может сильно сказаться на результатах расчетов. Уменьшить опасность подобного рода, то есть уменьшить в процессе выкладок вероятность деления на малые числа, позволяют варианты метода Гаусса с выбором главного элемента. \n",
    "\n",
    "##### Выбор главного элемента по столбцам.\n",
    "Перед исключение $x_1$ отсыкивается $\\max\\limits_i |a_{i1}|$. Допсутим, максимум соответствует $i = i_0$. Тогда первое уравнение в исходной системе меняем местами с уравнением $i_0$. После этого осуществляется первый шаг исключения. Затем перед исключением $x_2$ из оставшихся уравнений отыскивается $\\max\\limits_{2 \\leq i \\leq n} |a_{i2}^{(1)}|$, осуществляется соответствующаяперестановка уравнений и так далее.\n",
    "\n",
    "##### Выбор главного элемента по строке.\n",
    "Перед исключение $x_1$ отсыкивается $\\max\\limits_j |a_{1j}|$. Допсутим, максимум соответствует $j = j_0$. Тогда поменяем взаимно номера у неизвестных $x_1$ и $x_{j_0}$ и приступим к процедуре исключения $x_1$ и так далее. \n",
    "\n",
    "Впрочем, в прикладных задачах довольно часто фигурируют такие линейные системы, при решении которых можно не менять порядок исключения переменных. Это системы, для матриц которых выполнено условие диагонального преобладания:\n",
    "$|a_{ii}| > \\sum\\limits_{j \\neq i} |a_{ij}|$ для всех $i = \\overline{1,\\, n}$.\n",
    "Это условие остается справедливым даже после каждого шага исключения в процессе приведения матрицы к треугольному виду."
   ]
  },
  {
   "cell_type": "markdown",
   "metadata": {},
   "source": [
    "#### Относительная погрешность решения\n",
    "$$\n",
    "\\frac{\\lVert \\delta x \\rVert}{\\lVert x \\rVert} \\lesssim \\mu_A \\left( \\frac{\\lVert \\delta f \\rVert}{\\lVert f \\rVert} + \\frac{\\lVert \\delta A \\rVert}{\\lVert A \\rVert} \\right),\n",
    "$$\n",
    "где $\\mu_A = \\lVert A^{-1} \\rVert \\cdot \\lVert A \\rVert$ - число обусловленности матрицы A."
   ]
  },
  {
   "cell_type": "markdown",
   "metadata": {},
   "source": [
    "# Лабораторная работа:"
   ]
  },
  {
   "cell_type": "code",
   "execution_count": 32,
   "metadata": {},
   "outputs": [],
   "source": [
    "import numpy as np\n",
    "from random import randint\n",
    "import matplotlib.pyplot as plt\n",
    "from sympy import *"
   ]
  },
  {
   "cell_type": "markdown",
   "metadata": {},
   "source": [
    "### Задание 1\n",
    "Задайте матрицу A и вектор-столбец f системы линейных уравнений $AX = f$, используя генератор случайных чисел. Очевидно, можно получить решение таким образом: $X = A^{-1}f$ или по правилу Крамера. Реализуйте и проверьте работоспособность этих методов."
   ]
  },
  {
   "cell_type": "code",
   "execution_count": 2,
   "metadata": {},
   "outputs": [],
   "source": [
    "# solving system of linear equations with inverse matrix method\n",
    "def solve_inverse_matrix(A, f):\n",
    "    if np.linalg.det(A):\n",
    "        return np.matmul(np.linalg.inv(A), f)\n",
    "    return []\n",
    "\n",
    "# Cramer's rule for solving system of linear equations\n",
    "def solve_cramer(A, f):\n",
    "    delta = np.linalg.det(A)\n",
    "    if delta:\n",
    "        answer = []\n",
    "        for i in range(len(f)):\n",
    "            tmp = A.copy()\n",
    "            tmp[:, i] = f[:, 0]\n",
    "            answer.append(np.linalg.det(tmp) / delta);\n",
    "        return np.matrix(answer).T\n",
    "    return []"
   ]
  },
  {
   "cell_type": "code",
   "execution_count": 3,
   "metadata": {},
   "outputs": [
    {
     "name": "stdout",
     "output_type": "stream",
     "text": [
      "Matrix:\n",
      "[[18 19 15 12  0]\n",
      " [11 16 17  4 18]\n",
      " [ 9  8 15  4  6]\n",
      " [ 1 17  4 18  8]\n",
      " [19 15  3  6  3]]\n",
      "\n",
      "Vector of values:\n",
      "[[ 8]\n",
      " [15]\n",
      " [ 6]\n",
      " [ 4]\n",
      " [19]]\n",
      "\n",
      "Inverse matrix method solution:\n",
      "x_0 = 1.2560153425027891\n",
      "x_1 = -0.5562755567571225\n",
      "x_2 = -0.552963738974688\n",
      "x_3 = 0.3546179581629554\n",
      "x_4 = 1.0036751039167313\n",
      "\n",
      "Cramer's method solution:\n",
      "x_0 = 1.2560153425027847\n",
      "x_1 = -0.5562755567571219\n",
      "x_2 = -0.5529637389746881\n",
      "x_3 = 0.35461795816295544\n",
      "x_4 = 1.0036751039167324\n"
     ]
    }
   ],
   "source": [
    "# number of variables\n",
    "N = 5\n",
    "\n",
    "# random matrix\n",
    "A = np.random.randint(20, size=(N, N))\n",
    "f = np.random.randint(20, size=(N, 1))\n",
    "\n",
    "print(\"Matrix:\")\n",
    "print(A)\n",
    "print()\n",
    "print(\"Vector of values:\")\n",
    "print(f)\n",
    "print()\n",
    "\n",
    "solution_1 = solve_inverse_matrix(A, f)\n",
    "solution_2 = solve_cramer(A, f)\n",
    "if (len(solution_1)):\n",
    "    print(\"Inverse matrix method solution:\")\n",
    "    for i in range(len(solution_1)):\n",
    "        print(\"x_\", i, \" = \", solution_1[i, 0], sep=\"\")\n",
    "    print()\n",
    "    print(\"Cramer's method solution:\")\n",
    "    for i in range(len(solution_2)):\n",
    "        print(\"x_\", i, \" = \", solution_2[i, 0], sep=\"\")"
   ]
  },
  {
   "cell_type": "markdown",
   "metadata": {},
   "source": [
    "### Задание 2\n",
    "Напишите программу находения решения системы линейных уравнений методом Гаусса с выбором главного элемента."
   ]
  },
  {
   "cell_type": "code",
   "execution_count": 4,
   "metadata": {},
   "outputs": [],
   "source": [
    "# Gaussian elimination method for solving system of linear equations\n",
    "def solve_gauss(A, f, choosing = 0):\n",
    "    n = len(f)\n",
    "    for i in range(n):\n",
    "        # choosing main element by column\n",
    "        if choosing:\n",
    "            max_by_col = i\n",
    "            for j in range(i + 1, n):\n",
    "                if abs(A[j, i]) > abs(A[max_by_col, i]):\n",
    "                    max_by_col = j\n",
    "            if A[j, i] == 0:\n",
    "                continue\n",
    "    \n",
    "            # swapping rows\n",
    "            f[i, 0], f[max_by_col, 0] = f[max_by_col, 0].copy(), f[i, 0].copy()\n",
    "            A[max_by_col, :], A[i, :] = A[i, :].copy(), A[max_by_col, :].copy()\n",
    "        \n",
    "        # normalization and elemination\n",
    "        f[i, 0] = f[i, 0] / A[i, i]\n",
    "        A[i, :] = A[i, :] / A[i, i]\n",
    "        for j in range(i + 1, n):\n",
    "            f[j, 0] -= A[j, i] * f[i, 0]\n",
    "            A[j, :] -= A[j, i] * A[i, :]\n",
    "\n",
    "    # finding roots\n",
    "    for i in range(n - 1, -1, -1):\n",
    "        for j in range(i - 1, -1, -1):\n",
    "            f[j, 0] -= A[j, i] * f[i, 0]\n",
    "            A[j, i] = 0\n",
    "    return f"
   ]
  },
  {
   "cell_type": "code",
   "execution_count": 5,
   "metadata": {},
   "outputs": [
    {
     "name": "stdout",
     "output_type": "stream",
     "text": [
      "Matrix:\n",
      "[[15.  2.  6. 10. 17.]\n",
      " [13.  6.  7. 16. 17.]\n",
      " [ 1.  9. 10. 15.  4.]\n",
      " [14. 18. 15.  1. 13.]\n",
      " [18. 10.  6. 14.  6.]]\n",
      "\n",
      "Vector of values:\n",
      "[[ 8.]\n",
      " [19.]\n",
      " [ 9.]\n",
      " [12.]\n",
      " [11.]]\n",
      "\n",
      "Gaussian elimination method solution:\n",
      "x_0 = -0.6810470388860901\n",
      "x_1 = 2.1615810928411126\n",
      "x_2 = -2.3350616039939545\n",
      "x_3 = 0.5544405258095543\n",
      "x_4 = 1.3152063390280768\n",
      "\n"
     ]
    }
   ],
   "source": [
    "# number of variables\n",
    "N = 5\n",
    "\n",
    "# random matrix\n",
    "A = np.random.randint(20, size=(N, N)).astype(\"float\")\n",
    "f = np.random.randint(20, size=(N, 1)).astype(\"float\")\n",
    "\n",
    "print(\"Matrix:\")\n",
    "print(A)\n",
    "print()\n",
    "print(\"Vector of values:\")\n",
    "print(f)\n",
    "print()\n",
    "\n",
    "solution = solve_gauss(A.copy(), f.copy(), 1)\n",
    "print(\"Gaussian elimination method solution:\")\n",
    "for i in range(len(solution)):\n",
    "    print(\"x_\", i, \" = \", solution[i, 0], sep=\"\")\n",
    "print()"
   ]
  },
  {
   "cell_type": "markdown",
   "metadata": {},
   "source": [
    "### Задание 3\n",
    "Функция rref также приводит матрицу $[A,\\, f]$ к диагональному виду, из которого сразу же видно решение системы. Также есть операция левого матричного деления, с помощью которой очень просто найти решение: $X = A \\backslash f$.  "
   ]
  },
  {
   "cell_type": "code",
   "execution_count": 6,
   "metadata": {},
   "outputs": [
    {
     "name": "stdout",
     "output_type": "stream",
     "text": [
      "Extended matrix:\n",
      "[[11  7  3 13 11 13]\n",
      " [ 0  2  7 16 17 17]\n",
      " [ 2  8 17  1 19 17]\n",
      " [ 2 18 12  6 12 12]\n",
      " [13 18  0  6 11  8]]\n",
      "\n",
      "Solution by rref:\n",
      "x_0 = 0.222982321291314\n",
      "x_1 = -0.119677171406610\n",
      "x_2 = 0.499846272098386\n",
      "x_3 = 0.375710991544965\n",
      "x_4 = 0.454650269023828\n",
      "\n",
      "Solution by lstsq:\n",
      "x_0 = 0.22298232129131346\n",
      "x_1 = -0.11967717140660933\n",
      "x_2 = 0.49984627209838495\n",
      "x_3 = 0.37571099154496557\n",
      "x_4 = 0.454650269023829\n",
      "\n"
     ]
    }
   ],
   "source": [
    "# number of variables\n",
    "N = 5\n",
    "\n",
    "# random matrix\n",
    "A = np.random.randint(20, size=(N, N))\n",
    "f = np.random.randint(20, size=(N, 1))\n",
    "Af = np.concatenate((A.copy(), f.copy()), axis=1)\n",
    "\n",
    "print(\"Extended matrix:\")\n",
    "print(Af)\n",
    "print()\n",
    "\n",
    "rref_solution = np.array(Matrix(Af).rref()[0][:, N].evalf())\n",
    "print(\"Solution by rref:\")\n",
    "for i in range(len(rref_solution)):\n",
    "    print(\"x_\", i, \" = \", rref_solution[i, 0], sep=\"\")\n",
    "print()\n",
    "\n",
    "lstsq_solution = np.linalg.lstsq(A.copy(), f.copy(), rcond=None)[0]\n",
    "print(\"Solution by lstsq:\")\n",
    "for i in range(len(lstsq_solution)):\n",
    "    print(\"x_\", i, \" = \", lstsq_solution[i, 0], sep=\"\")\n",
    "print()"
   ]
  },
  {
   "cell_type": "markdown",
   "metadata": {},
   "source": [
    "### Задание 4\n",
    "Задайте случайным образом матрицу A размерности $20 \\times 20$ и вектор X. Определите число обусловленности матрицы A с помощью функции cond. Изменяя значения некоторых элементов матрицы A, добейтесь, чтобы ее число обусловленности стало больше $10^3$. Используя A и X, найдите вектор $f = AX$. Полагая вектор X неизвестным, решите систему линейный уравнений всеми предложенными выше методами и сравните найденные результаты с уже известным. Какой из методов дал более точный результат? "
   ]
  },
  {
   "cell_type": "code",
   "execution_count": 53,
   "metadata": {},
   "outputs": [
    {
     "name": "stdout",
     "output_type": "stream",
     "text": [
      "Inverse matrix method solution:\n",
      "MAX ERROR: 2.2282620193436742e-11\n",
      "--------------------------------------------\n",
      "Cramer's method solution:\n",
      "MAX ERROR: 4.846789636303583e-12\n",
      "--------------------------------------------\n",
      "Gaussian elimination method solution (without choosing main element):\n",
      "MAX ERROR: 1.2163781093477155e-10\n",
      "--------------------------------------------\n",
      "Gaussian elimination method solution (with choosing main element):\n",
      "MAX ERROR: 4.476419235288631e-13\n",
      "--------------------------------------------\n"
     ]
    }
   ],
   "source": [
    "# number of variables\n",
    "N = 20\n",
    "\n",
    "while 1:\n",
    "    A = np.random.randint(20, size=(N, N)).astype(\"float\")\n",
    "    mu_A = np.linalg.cond(A)\n",
    "    if mu_A > 10**3:\n",
    "        break\n",
    "\n",
    "X = np.random.randint(20, size=(N, 1)).astype(\"float\")\n",
    "f = np.matmul(A, X)\n",
    "\n",
    "solution_1 = solve_inverse_matrix(A.copy(), f.copy())\n",
    "solution_2 = solve_cramer(A.copy(), f.copy())\n",
    "solution_3 = solve_gauss(A.copy(), f.copy())\n",
    "solution_4 = solve_gauss(A.copy(), f.copy(), 1)\n",
    "\n",
    "max_error_1 = 0\n",
    "print(\"Inverse matrix method solution:\")\n",
    "for i in range(len(solution_1)):\n",
    "    #print(\"x_\", i, \" = \", solution_1[i, 0], sep=\"\")\n",
    "    #print(\"Error for x_\", i, \" = \", abs(X[i, 0] - solution_1[i, 0]), sep=\"\")\n",
    "    #print()\n",
    "    if max_error_1 < abs(X[i, 0] - solution_1[i, 0]):\n",
    "        max_error_1 = abs(X[i, 0] - solution_1[i, 0])\n",
    "print(\"MAX ERROR:\", max_error_1)\n",
    "print(\"--------------------------------------------\")\n",
    "\n",
    "max_error_2 = 0\n",
    "print(\"Cramer's method solution:\")\n",
    "for i in range(len(solution_2)):\n",
    "    #print(\"x_\", i, \" = \", solution_2[i, 0], sep=\"\")\n",
    "    #print(\"Error for x_\", i, \" = \", abs(X[i, 0] - solution_2[i, 0]), sep=\"\")\n",
    "    #print()\n",
    "    if max_error_2 < abs(X[i, 0] - solution_2[i, 0]):\n",
    "        max_error_2 = abs(X[i, 0] - solution_2[i, 0])\n",
    "print(\"MAX ERROR:\", max_error_2)\n",
    "print(\"--------------------------------------------\")\n",
    "\n",
    "max_error_3 = 0\n",
    "print(\"Gaussian elimination method solution (without choosing main element):\")\n",
    "for i in range(len(solution_3)):\n",
    "    #print(\"x_\", i, \" = \", solution_3[i, 0], sep=\"\")\n",
    "    #print(\"Error for x_\", i, \" = \", abs(X[i, 0] - solution_3[i, 0]), sep=\"\")\n",
    "    #print()\n",
    "    if max_error_3 < abs(X[i, 0] - solution_3[i, 0]):\n",
    "        max_error_3 = abs(X[i, 0] - solution_3[i, 0])\n",
    "print(\"MAX ERROR:\", max_error_3)\n",
    "print(\"--------------------------------------------\")\n",
    "\n",
    "max_error_4 = 0\n",
    "print(\"Gaussian elimination method solution (with choosing main element):\")\n",
    "for i in range(len(solution_4)):\n",
    "    #print(\"x_\", i, \" = \", solution_4[i, 0], sep=\"\")\n",
    "    #print(\"Error for x_\", i, \" = \", abs(X[i, 0] - solution_4[i, 0]), sep=\"\")\n",
    "    #print()\n",
    "    if max_error_4 < abs(X[i, 0] - solution_4[i, 0]):\n",
    "        max_error_4 = abs(X[i, 0] - solution_4[i, 0])\n",
    "print(\"MAX ERROR:\", max_error_4)\n",
    "print(\"--------------------------------------------\")"
   ]
  },
  {
   "cell_type": "markdown",
   "metadata": {},
   "source": [
    "Из всех методов наименьшую погрешность дает метод Гаусса с выбором главного элемента."
   ]
  },
  {
   "cell_type": "markdown",
   "metadata": {},
   "source": [
    "### Дополнительное задание\n",
    "В качестве дополнительного задания напишу универсальную функцию, которая будет решать любую систему уравнений."
   ]
  },
  {
   "cell_type": "code",
   "execution_count": 45,
   "metadata": {
    "scrolled": true,
    "tags": []
   },
   "outputs": [],
   "source": [
    "def universal_solver(A, f, particular_solution = 0):\n",
    "    num_of_equations = A.shape[0]\n",
    "    num_of_variables = A.shape[1]\n",
    "\n",
    "    C = np.concatenate((A.copy(), f.copy()), axis=1)\n",
    "    \n",
    "    rank_A = np.linalg.matrix_rank(A)\n",
    "    rank_C = np.linalg.matrix_rank(C)\n",
    "    # checking if system has any solutions\n",
    "    if rank_A != rank_C:\n",
    "        print(\"System is inconsistent!\")\n",
    "        return np.ones((0, 0))\n",
    "    \n",
    "    # checking if system is homogeneous\n",
    "    homogeneous = 1\n",
    "    for i in range(len(f)):\n",
    "        if f[i, 0] != 0:\n",
    "            homogeneous = 0\n",
    "            break\n",
    "    \n",
    "    # when system has only one solution\n",
    "    if rank_A == num_of_variables:\n",
    "        if homogeneous:\n",
    "            print(\"System is homogeneous and has only one solution - all zeros\")\n",
    "            return f\n",
    "        print(\"System is not homogeneous and has only one solution - solving by Gaussian elimination method (with choosing main element)\")\n",
    "        return solve_gauss(A.copy(), f.copy(), 1)\n",
    "        \n",
    "    # when system has infinitly many solutions\n",
    "    print(\"System has infinitly many solutions\")\n",
    "    number_of_free_variables = num_of_variables - rank_A\n",
    "    # changing some rows and columns\n",
    "    X = np.matrix(symbols(\"x0:%d\"%num_of_variables)).T\n",
    "    D = np.matmul(np.matrix(Matrix(A).rref()[0]), X)\n",
    "    \n",
    "    # getting symbolical solution\n",
    "    i = 0\n",
    "    j = 0\n",
    "    while i < rank_A:\n",
    "        if diff(D[i, 0], X[j, 0]) != 0:\n",
    "            X[j, 0] = solve(D[i, 0], X[j, 0])[0]\n",
    "            i += 1\n",
    "        j += 1\n",
    "    \n",
    "    # getting particular solution by assuming all variables are 1\n",
    "    if particular_solution:\n",
    "        print(\"Getting one particular solution by assuming all variables are 1\")\n",
    "        for i in range(X.shape[0]):\n",
    "            for j in symbols(\"x0:%d\"%num_of_variables):\n",
    "                X[i, 0] = X[i, 0].subs(j, 1)\n",
    "    return X\n",
    "                "
   ]
  },
  {
   "cell_type": "code",
   "execution_count": 49,
   "metadata": {},
   "outputs": [
    {
     "name": "stdout",
     "output_type": "stream",
     "text": [
      "Matrix:\n",
      "[[9. 4. 0. 6. 8. 1.]\n",
      " [7. 5. 6. 8. 2. 5.]]\n",
      "\n",
      "Vector of values:\n",
      "[[9.]\n",
      " [6.]]\n",
      "\n",
      "System has infinitly many solutions\n",
      "Getting one particular solution by assuming all variables are 1\n",
      "Root x_0 = 0.529411764705882\n",
      "Root x_1 = -4.94117647058824\n",
      "Root x_2 = 1\n",
      "Root x_3 = 1\n",
      "Root x_4 = 1\n",
      "Root x_5 = 1\n"
     ]
    }
   ],
   "source": [
    "# number of equations \n",
    "#N = 3\n",
    "N = randint(2, 6)\n",
    "# number of variables\n",
    "#M = 4\n",
    "M = randint(2, 6)\n",
    "\n",
    "# random matrix\n",
    "A = np.random.randint(10, size=(M , N)).astype(\"float\")\n",
    "f = np.random.randint(10, size=(M, 1)).astype(\"float\")\n",
    "\n",
    "# test 1\n",
    "#A = np.matrix([[2, -3, 5, 7], [4, -6, 2, 3], [2, -3, -11, -15]])\n",
    "#f = np.matrix([[0], [0], [0]])\n",
    "\n",
    "print(\"Matrix:\")\n",
    "print(A)\n",
    "print()\n",
    "print(\"Vector of values:\")\n",
    "print(f)\n",
    "print()\n",
    "\n",
    "solution = universal_solver(A, f, 1)\n",
    "for i in range(solution.shape[0]):\n",
    "    print(\"Root x_\", i, \" = \", solution[i, 0], sep=\"\")"
   ]
  }
 ],
 "metadata": {
  "kernelspec": {
   "display_name": "Python 3 (ipykernel)",
   "language": "python",
   "name": "python3"
  },
  "language_info": {
   "codemirror_mode": {
    "name": "ipython",
    "version": 3
   },
   "file_extension": ".py",
   "mimetype": "text/x-python",
   "name": "python",
   "nbconvert_exporter": "python",
   "pygments_lexer": "ipython3",
   "version": "3.11.6"
  }
 },
 "nbformat": 4,
 "nbformat_minor": 4
}
