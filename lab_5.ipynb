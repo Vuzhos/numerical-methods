{
 "cells": [
  {
   "cell_type": "markdown",
   "metadata": {},
   "source": [
    "### Тема: Интегрирование функций. Формулы трапеций, Симпсона\n",
    "\n",
    "**Выполнил**: Лежнин Максим Витальевич (ПМ-21)\n",
    "\n",
    "**Преподаватель**: Гурьянов М.А., кафедра ВМ-1\n",
    "\n",
    "###### Лабораторная работа № **5**, вариант № **23**\n",
    "\n",
    "###### Весенний семестр, 2023 год\n",
    "\n",
    "###### МИЭТ, Зеленоград"
   ]
  },
  {
   "cell_type": "markdown",
   "metadata": {},
   "source": [
    "# Теоретическая справка"
   ]
  },
  {
   "cell_type": "markdown",
   "metadata": {},
   "source": [
    "#### Численной интегрирование\n",
    "Формулы для численного вычисления интегралов называются квадратурными формулами. Розобъем отрезок $[a,\\, b]$, по которому интегрируют функци, на n частей с помощью точек $x_i,\\, i = 0,\\, 1,\\, ...,\\, n$, которые называют узлами квадратурной формулы. Тогда можно записать:\n",
    "$\\int\\limits_a^b f(x)\\,dx = \\sum\\limits_{k = 1}^n \\int\\limits_{x_{i - 1}}^{x_i} f(x)\\,dx$"
   ]
  },
  {
   "cell_type": "markdown",
   "metadata": {},
   "source": [
    "#### Формула трапеций\n",
    "Приблизим частичный интеграл площадью прямоугольника:\n",
    "\n",
    "$\\int\\limits_{x_{i - 1}}^{x_i} f(x)\\,dx \\approx \\frac{f(x_{i - 1}) + f(x_i)}{2}h$\n",
    "\n",
    "Это равносильно тому, что мы заменяем функцию $f(x)$ на $[x_{i - 1},\\, x_i]$ многочленом Лагранжа первой степени $P_{1,\\, i}(x) = \\frac{1}{h}[(x - x_{i - 1})f(x_i) - (x - x_i)f(x_{i - 1})]$. \n",
    "\n",
    "Погрешность многочлена Лагранжа:\n",
    "\n",
    "$R_{1,\\, i}(x) = f(x) - P_{1,\\, i}(x) = \\frac{f''(\\zeta_i(x))}{2!}$\n",
    "\n",
    "Откуда погрешность формулы трапеций:\n",
    "\n",
    "$|\\psi_i| \\leq |\\int\\limits_{x_{i - 1}}^{x_i} R_{1,\\, i}(x)\\,dx| \\leq \\frac{M_{2,\\, i}}{2} |\\int\\limits_{x_{i - 1}}^{x_i} (x - x_{i - 1})(x - x_i)\\,dx| = \\frac{M_{2,\\, i}h^3}{12}$, где $M_{2,\\, i} = \\max\\limits_{[x_{i - 1},\\, x_i]} |f''(x)|$.\n",
    "\n",
    "Суммируя частичные интегралы, получим составную формулу трапеций:\n",
    "\n",
    "$\\int\\limits_a^b f(x)\\,dx \\approx (\\frac{1}{2}f_0 + f_1 + .... + f_{n - 1} + \\frac{1}{2}f_n)h$\n",
    "\n",
    "Погрешность этой формулы:\n",
    "\n",
    "$|\\Psi| \\leq \\sum\\limits_{i = 1}^n |\\psi_i| \\leq \\sum\\limits_{i = 1}^n \\frac{h^3}{12} M_{2,\\, i} leq \\sum\\limits_{i = 1}^n \\frac{h^3}{12}M_2 = n\\frac{h^3}{12}M_2 = \\frac{h^2(b - a)}{12}M_2 = O(h^2)$, где $M_2 = \\max\\limits_{[a,\\, b]} |f''(x)|$"
   ]
  },
  {
   "cell_type": "markdown",
   "metadata": {
    "jp-MarkdownHeadingCollapsed": true,
    "tags": []
   },
   "source": [
    "#### Формула Симпсона\n",
    "Приблизим функцию $f(x)$ на частичном интервале многочленом Лагранжа 2-ой степени, который проходит через точки $(x_{i - 1},\\, f_{i - 1}),\\, (x_{i - 1/2},\\, f_{i - 1/2}),\\, (x_i,\\, f_i)$:\n",
    "\n",
    "$f(x) \\approx P_{2,\\, i} = f_{i - 1} \\frac{(x - x_{i - 1/2})(x - x_i)}{h / 2 \\cdot h} - f_{i - 1/2} \\frac{(x - x_{i - 1})(x - x_i)}{h / 2 \\cdot h / 2} + f_i \\frac{(x - x_{i - 1})(x - x_{i - 1/2})}{h \\cdot h / 2}$, где $h = x_i - x_{i - 1}$\n",
    "\n",
    "Проведя интегрирование, получим формулу Симпсона:\n",
    "\n",
    "$\\int\\limits_{x_{i - 1}}^{x_i} f(x)\\,dx \\approx \\int\\limits_{x_{i - 1}}^{x_i} P_{2,\\, i}(x)\\,dx = \\frac{h}{6}(f_{i - 1} + 4f_{i - 1/2} + f_i)$\n",
    "\n",
    "Погрешность формулы:\n",
    "\n",
    "$|\\psi_i| \\leq \\frac{M_{4,\\, i}}{24} |\\int\\limits_{x_{i - 1}}^{x_i} (x - x_{i - 1})(x - x_{i - 1/2})^2(x - x_i)\\,dx| = \\frac{h^5}{2880}M_{4,\\, i}$, где $M_{4,\\, i} = \\max\\limits_{[x_{i - 1},\\, x_i]} |f^{(4)}(x)|$\n",
    "\n",
    "Суммируя частичные интегралы, получим составную формулу Симпсона:\n",
    "\n",
    "$\\int\\limits_a^b f(x)\\,dx \\approx \\frac{h}{6}[f_0 + f_n + 2(f_1 + f_2 + ... + f_{n - 1}) + 4(f_{1/2} + f_{3/2} + ... + f_{n - 1/2})]$\n",
    "\n",
    "Погрешность этой формулы:\n",
    "\n",
    "$|\\Psi| \\leq \\sum\\limits_{i = 1}^n |\\psi_i| \\leq \\frac{h^4(b - a)}{2880}M_4 = O(h^4)$, где $M_4 = \\max\\limits_{[a,\\, b]} |f^{(4)}(x)|$"
   ]
  },
  {
   "cell_type": "markdown",
   "metadata": {},
   "source": [
    "# Лабораторная работа:"
   ]
  },
  {
   "cell_type": "code",
   "execution_count": 1,
   "metadata": {
    "id": "2zkx0KjTpMbi"
   },
   "outputs": [],
   "source": [
    "import numpy as np\n",
    "import matplotlib.pyplot as plt\n",
    "import sympy"
   ]
  },
  {
   "cell_type": "markdown",
   "metadata": {},
   "source": [
    "### Задание 1\n",
    "Задайте функцию $f(x) = x^3$ на отрезке $[0,\\, 1]$. Очевидно, определенный интеграл от функции на этом отрезке равен $1/4$. Написать программу, вычисляющую значение интеграла по формулам трапеций и Симпсона. Какую максимальную теоретическую ошибку мы при этом допускаем? Найдите реальное значение погрешности. Почему при вычислении интеграла по формуле Симпсона от данной функции ошибка равна нулю? Какие бы получились значения погрешностей для квадратичной и линейной функций?"
   ]
  },
  {
   "cell_type": "code",
   "execution_count": 2,
   "metadata": {},
   "outputs": [],
   "source": [
    "# trapezoid rule for approximating the definite integral\n",
    "def integral_trapezoid(func, interval, n = 10):\n",
    "    (a, b) = interval\n",
    "    h = (b - a) / n\n",
    "    ans = (func(a) + func(b)) / 2\n",
    "    for i in range(1, n):\n",
    "        ans += func(a + i * h)\n",
    "    ans *= h\n",
    "    return ans"
   ]
  },
  {
   "cell_type": "code",
   "execution_count": 3,
   "metadata": {},
   "outputs": [],
   "source": [
    "# Simpson's formula for approximating the definite integral\n",
    "def integral_simpson(func, interval, n = 10):\n",
    "    (a, b) = interval\n",
    "    h = (b - a) / n\n",
    "    ans = func(a) + func(b) + 4 * func(a + h / 2)\n",
    "    for i in range(1, n):\n",
    "        ans += 2 * func(a + i * h) + 4 * func(a + (i + 1 / 2) * h)\n",
    "    ans *= h / 6\n",
    "    return ans"
   ]
  },
  {
   "cell_type": "code",
   "execution_count": 4,
   "metadata": {},
   "outputs": [
    {
     "name": "stdout",
     "output_type": "stream",
     "text": [
      "Trapezoid rule integration value: 0.25250000000000006\n",
      "Error: 0.0025000000000000577\n",
      "\n",
      "Simpson's integration formula value: 0.25\n",
      "Error: 0.0\n"
     ]
    }
   ],
   "source": [
    "func = lambda x: x**3\n",
    "interval = (0, 1)\n",
    "\n",
    "int_value = 1 / 4\n",
    "print(\"Trapezoid rule integration value:\", integral_trapezoid(func, interval))\n",
    "print(\"Error:\", abs(integral_trapezoid(func, interval) - int_value))\n",
    "print()\n",
    "print(\"Simpson's integration formula value:\", integral_simpson(func, interval))\n",
    "print(\"Error:\", abs(integral_simpson(func, interval) - int_value))"
   ]
  },
  {
   "cell_type": "markdown",
   "metadata": {},
   "source": [
    "Максимальная погрешность формулы трапеций зависит от максимального значения 2-ой производной функции на данном отрезке. Прикинем значение погрешности:\n",
    "$|\\Psi| \\leq \\frac{h^2(b - a)}{12}M_2 = \\frac{(b - a)^3}{12n^2}M_2 = \\frac{1}{200} = 0.005$\n",
    "\n",
    "Максимальная же погрешность формулы Симпсона зависит от максимального значения 4-ой производной функции на данном отрезке. Но 4-ая производная от данной функции всегда равна 0, а значит и погрешность зануляется.\n",
    "\n",
    "Для функций $f(x) = x^2$ и $f(x) = x$ ситуация будет схожая. Формула Симпсона все посчитает без ошибок. Максимальная погрешность формулы трапеций в случае $f(x) = x^2$ будет равна $\\frac{1}{600}$, а в случае $f(x) = x$ будет равна 0, поскольку 2-ая производная уже будет всюду 0."
   ]
  },
  {
   "cell_type": "code",
   "execution_count": 5,
   "metadata": {},
   "outputs": [
    {
     "name": "stdout",
     "output_type": "stream",
     "text": [
      "For f(x) = x^2\n",
      "Trapezoid rule integration value: 0.3350000000000001\n",
      "Error: 0.0016666666666667607\n",
      "Simpson's integration formula value: 0.33333333333333337\n",
      "Error: 5.551115123125783e-17\n",
      "\n",
      "For f(x) = x\n",
      "Trapezoid rule integration value: 0.5000000000000001\n",
      "Error: 1.1102230246251565e-16\n",
      "Simpson's integration formula value: 0.5\n",
      "Error: 0.0\n"
     ]
    }
   ],
   "source": [
    "func_1 = lambda x: x**2\n",
    "func_2 = lambda x: x\n",
    "interval = (0, 1)\n",
    "\n",
    "int_value_1 = 1 / 3\n",
    "int_value_2 = 1 / 2\n",
    "print(\"For f(x) = x^2\")\n",
    "print(\"Trapezoid rule integration value:\", integral_trapezoid(func_1, interval))\n",
    "print(\"Error:\", abs(integral_trapezoid(func_1, interval) - int_value_1))\n",
    "print(\"Simpson's integration formula value:\", integral_simpson(func_1, interval))\n",
    "print(\"Error:\", abs(integral_simpson(func_1, interval) - int_value_1))\n",
    "print()\n",
    "print(\"For f(x) = x\")\n",
    "print(\"Trapezoid rule integration value:\", integral_trapezoid(func_2, interval))\n",
    "print(\"Error:\", abs(integral_trapezoid(func_2, interval) - int_value_2))\n",
    "print(\"Simpson's integration formula value:\", integral_simpson(func_2, interval))\n",
    "print(\"Error:\", abs(integral_simpson(func_2, interval) - int_value_2))"
   ]
  },
  {
   "cell_type": "markdown",
   "metadata": {},
   "source": [
    "### Задание 2\n",
    "Используя соотношение $\\int\\limits_0^1 \\frac{1}{1 + x^2}\\,dx = \\arctan{1}$ найдите значение числа $\\pi$ с точностью $10^{-6}$. Из каких соображений выбирался шаг для получения указанной точности?"
   ]
  },
  {
   "cell_type": "markdown",
   "metadata": {},
   "source": [
    "$\\arctan{1} = \\frac{\\pi}{4} \\implies \\pi = \\int\\limits_0^1 \\frac{4}{1 + x^2}\\,dx$\n",
    "\n",
    "Чтобы соблюдать точность $\\delta = 10^{-6}$ нужно, чтобы погрешность выбранного метода была меньше $\\delta$. Воспользуемся методом трапеций:\n",
    "\n",
    "$|\\Phi| \\leq \\frac{h^2(b - a)}{12}M_2 = \\frac{(b - a)^3}{12n^2}M_2 \\leq \\delta$\n",
    "\n",
    "Посчитаем $M_2 = \\max\\limits_{[0,\\, 1]} |(\\frac{4}{1 + x^2})''| = \\max\\limits_{[0,\\, 1]} |4\\frac{6x^2 - 2}{(1 + x^2)^3}| = 2$\n",
    "\n",
    "Тогда:\n",
    "\n",
    "$\n",
    "\\frac{(b - a)^3}{12n^2}M_2 \\leq \\delta \\implies \\frac{1}{6n^2} \\leq 10^{-6} \\implies n \\geq \\sqrt{\\frac{1}{6 \\cdot 10^{-6}}} \\implies n \\geq 409\n",
    "$\n",
    "\n",
    "Возьмем $n = 409$, тогда шаг $h = \\frac{b - a}{n} = \\frac{1}{409} \\approx 2.44 \\cdot 10^{-3}$"
   ]
  },
  {
   "cell_type": "code",
   "execution_count": 6,
   "metadata": {},
   "outputs": [
    {
     "name": "stdout",
     "output_type": "stream",
     "text": [
      "Real value of pi: 3.141592653589793\n",
      "Trapezoid method for pi value: 3.141591657262257\n",
      "Error: 9.963275360291846e-07\n"
     ]
    }
   ],
   "source": [
    "func = lambda x: 1 / (1 + x**2)\n",
    "interval = (0, 1)\n",
    "n = 409\n",
    "print(\"Real value of pi:\", np.pi)\n",
    "print(\"Trapezoid method for pi value:\", 4 * integral_trapezoid(func, interval, n))\n",
    "print(\"Error:\", abs(np.pi - 4 * integral_trapezoid(func, interval, n)))\n"
   ]
  },
  {
   "cell_type": "markdown",
   "metadata": {},
   "source": [
    "### Задание 3\n",
    "Реализовать предыдущее задание, определяя точность методом Рунге. При численном вычислении интегралов последовательно с шагами h и h/2 можно сократить количество арифметических операций. Заметим, что приближенное значение интеграла $I_{h/2}$ есть сумма, часть слагаемых которой возможно уже участвовало при вычилсении $I_h$. Поэтому можно получить $I_{h/2}$, используя числовое значение $I_h$. Это позволяет избежать повторного суммирования части слагаемых."
   ]
  },
  {
   "cell_type": "markdown",
   "metadata": {},
   "source": [
    "Для метода трапеций:\n",
    "\n",
    "$\n",
    "I_h = h(\\frac{1}{2}f_0 + f_1 + ... + f_{n - 1} + \\frac{1}{2}f_n) \\\\\n",
    "I_{h/2} = \\frac{h}{2}(\\frac{1}{2}f_0 + f_{1/2} + f_1 + ... + f_{n - 1} + f_{n - 1/2} + \\frac{1}{2}f_n) \\\\\n",
    "\\implies I_{h/2} = \\frac{I_h}{2} + \\frac{h}{2}(f_{1/2} + f_{3/2} + ... + f_{n - 3/2} + f_{n - 1/2})\n",
    "$\n",
    "\n",
    "Заметим, что второе слагаемое - значение интеграла по методу прямоугольников с шагом h деленное на 2."
   ]
  },
  {
   "cell_type": "code",
   "execution_count": 7,
   "metadata": {},
   "outputs": [
    {
     "name": "stdout",
     "output_type": "stream",
     "text": [
      "Real value of pi: 3.141592653589793\n",
      "Rectangle method for pi value: 3.0\n",
      "Error: 0.14159265358979312\n"
     ]
    }
   ],
   "source": [
    "func = lambda x: 1 / (1 + x**2)\n",
    "interval = (0, 1)\n",
    "delta = 10**-6\n",
    "n = 1\n",
    "\n",
    "int_h = integral_trapezoid(func, interval, n)\n",
    "while 1:\n",
    "    int_2h = int_h\n",
    "    int_h = int_2h / 2 + integral_trapezoid(func, interval, n) / 2\n",
    "    n *= 2\n",
    "    \n",
    "    if 4 * abs(int_h - int_2h) <= delta:\n",
    "        break       \n",
    "\n",
    "print(\"Real value of pi:\", np.pi)\n",
    "print(\"Rectangle method for pi value:\", 4 * int_h)\n",
    "print(\"Error:\", abs(np.pi - 4 * int_h))"
   ]
  },
  {
   "cell_type": "markdown",
   "metadata": {},
   "source": [
    "### Дополнительное задание\n",
    "В лекциях также была формула прямоугольников для численного интегрирования. Необходимо ее программно реализовать и сравнить с двумя другими на примере интеграла:\n",
    "\n",
    "$\\int\\limits_0^{100} \\sqrt{x}e^{x}\\, dx$"
   ]
  },
  {
   "cell_type": "markdown",
   "metadata": {},
   "source": [
    "#### Формула прямоугольников\n",
    "Приблизим частичный интеграл площадью прямоугольника:\n",
    "\n",
    "$\\int\\limits_{x_{i - 1}}^{x_i} f(x)\\,dx \\approx f(x_{i - 1/2})h$\n",
    "\n",
    "Это равносильно тому, что мы заменяем функцию $f(x)$ на $[x_{i - 1},\\, x_i]$ многочленом Лагранжа нулевой степени $P_0(x) = f(x_{i - 1/2})$. \n",
    "\n",
    "Погрешность метода:\n",
    "\n",
    "$|\\psi_i| \\leq M_{2,\\, i} \\int\\limits_{x_{i - 1}}^{x_i} \\frac{(x - x_{i - 1/2})^2}{2}\\,dx = \\frac{h^3}{24} M_{2,\\, i}$, где $M_{2,\\, i} = \\max\\limits_{[x_{i - 1},\\, x_i]} |f''(x)|$.\n",
    "\n",
    "\n",
    "Суммируя частичные интегралы, получим составную формулу прямоугольников:\n",
    "\n",
    "$\\int\\limits_a^b f(x)\\,dx \\approx (f_{1/2} + f_{3/2} + .... + f_{n - 1/2})h$\n",
    "\n",
    "Погрешность этой формулы:\n",
    "\n",
    "$|\\Psi| \\leq \\sum\\limits_{i = 1}^n |\\psi_i| \\leq \\sum\\limits_{i = 1}^n \\frac{h^3}{24} M_{2,\\, i} \\leq \\sum\\limits_{i = 1}^n \\frac{h^3}{24}M_2 = n\\frac{h^3}{24}M_2 = \\frac{h^2(b - a)}{24}M_2 = O(h^2)$, где $M_2 = \\max\\limits_{[a,\\, b]} |f''(x)|$"
   ]
  },
  {
   "cell_type": "code",
   "execution_count": 8,
   "metadata": {},
   "outputs": [],
   "source": [
    "# rectangle method approximating the definite integral\n",
    "def integral_rectangle(func, interval, n = 10):\n",
    "    (a, b) = interval\n",
    "    h = (b - a) / n\n",
    "    ans = 0\n",
    "    for i in range(n):\n",
    "        ans += func(a + (i + 1 / 2) * h)\n",
    "    ans *= h\n",
    "    return ans"
   ]
  },
  {
   "cell_type": "code",
   "execution_count": 9,
   "metadata": {},
   "outputs": [
    {
     "name": "stdout",
     "output_type": "stream",
     "text": [
      "Number of steps: 32\n",
      "\n",
      "Rectangle method value: 0.8848333561061974\n",
      "Error: 0.0013935693465606525\n",
      "\n",
      "Trapezoid method value: 0.2586561000085863\n",
      "Error: 0.6275708254441718\n",
      "\n",
      "Simpson's method value: 0.6761076040736601\n",
      "Error: 0.21011932137909795\n",
      "---------------------------------------\n",
      "Number of steps: 64\n",
      "\n",
      "Rectangle method value: 0.9441474962493553\n",
      "Error: 0.05792057079659729\n",
      "\n",
      "Trapezoid method value: 0.5717447280573917\n",
      "Error: 0.3144821973953663\n",
      "\n",
      "Simpson's method value: 0.8200132401853679\n",
      "Error: 0.06621368526739013\n",
      "---------------------------------------\n",
      "Number of steps: 128\n",
      "\n",
      "Rectangle method value: 0.9181560885483523\n",
      "Error: 0.03192916309559424\n",
      "\n",
      "Trapezoid method value: 0.7579461121533735\n",
      "Error: 0.12828081329938457\n",
      "\n",
      "Simpson's method value: 0.8647527630833589\n",
      "Error: 0.02147416236939914\n",
      "---------------------------------------\n",
      "Number of steps: 256\n",
      "\n",
      "Rectangle method value: 0.899400983086764\n",
      "Error: 0.01317405763400592\n",
      "\n",
      "Trapezoid method value: 0.8380511003508627\n",
      "Error: 0.04817582510189533\n",
      "\n",
      "Simpson's method value: 0.8789510221747963\n",
      "Error: 0.007275903277961793\n",
      "---------------------------------------\n",
      "Number of steps: 512\n",
      "\n",
      "Rectangle method value: 0.8911937805795279\n",
      "Error: 0.004966855126769865\n",
      "\n",
      "Trapezoid method value: 0.8687260417188123\n",
      "Error: 0.01750088373394576\n",
      "\n",
      "Simpson's method value: 0.8837045342926251\n",
      "Error: 0.002522391160132975\n",
      "---------------------------------------\n",
      "Number of steps: 1024\n",
      "\n",
      "Rectangle method value: 0.8880349943910956\n",
      "Error: 0.0018080689383375148\n",
      "\n",
      "Trapezoid method value: 0.8799599111491722\n",
      "Error: 0.006267014303585894\n",
      "\n",
      "Simpson's method value: 0.8853432999771209\n",
      "Error: 0.0008836254756371398\n",
      "---------------------------------------\n",
      "Number of steps: 2048\n",
      "\n",
      "Rectangle method value: 0.8868751183789169\n",
      "Error: 0.0006481929261588082\n",
      "\n",
      "Trapezoid method value: 0.8839974527701309\n",
      "Error: 0.002229472682627187\n",
      "\n",
      "Simpson's method value: 0.8859158965093212\n",
      "Error: 0.00031102894343681964\n",
      "---------------------------------------\n",
      "Number of steps: 4096\n",
      "\n",
      "Rectangle method value: 0.886457654245177\n",
      "Error: 0.00023072879241892164\n",
      "\n",
      "Trapezoid method value: 0.8854362855745257\n",
      "Error: 0.0007906398782323576\n",
      "\n",
      "Simpson's method value: 0.886117198021625\n",
      "Error: 0.00010972743113302208\n",
      "---------------------------------------\n",
      "Number of steps: 8192\n",
      "\n",
      "Rectangle method value: 0.886308773736698\n",
      "Error: 8.184828393997812e-05\n",
      "\n",
      "Trapezoid method value: 0.8859469699098446\n",
      "Error: 0.00027995554291349034\n",
      "\n",
      "Simpson's method value: 0.8861881724610791\n",
      "Error: 3.875299167899193e-05\n",
      "---------------------------------------\n",
      "Number of steps: 16384\n",
      "\n",
      "Rectangle method value: 0.8862559113253967\n",
      "Error: 2.8985872638664922e-05\n",
      "\n",
      "Trapezoid method value: 0.8861278718232597\n",
      "Error: 9.905362949835794e-05\n",
      "\n",
      "Simpson's method value: 0.8862132314913572\n",
      "Error: 1.3693961400829124e-05\n",
      "---------------------------------------\n",
      "Number of steps: 32768\n",
      "\n",
      "Rectangle method value: 0.8862371819988841\n",
      "Error: 1.0256546126075072e-05\n",
      "\n",
      "Trapezoid method value: 0.8861918915743222\n",
      "Error: 3.5033878435841714e-05\n",
      "\n",
      "Simpson's method value: 0.8862220851907023\n",
      "Error: 4.8402620557164155e-06\n",
      "---------------------------------------\n"
     ]
    }
   ],
   "source": [
    "func = lambda x: x**0.5 * np.exp(-x)\n",
    "interval = (0, 100)\n",
    "int_value_approx = 0.886226925452758\n",
    "\n",
    "n = [2**i for i in range(5, 16)]\n",
    "for i in n:\n",
    "    int_value_rectangle = integral_rectangle(func, interval, i)\n",
    "    int_value_trapezoid = integral_trapezoid(func, interval, i)\n",
    "    int_value_simpson = integral_simpson(func, interval, i)\n",
    "    \n",
    "    print(\"Number of steps:\", i)\n",
    "    print()\n",
    "    print(\"Rectangle method value:\", int_value_rectangle)\n",
    "    print(\"Error:\", abs(int_value_approx - int_value_rectangle))\n",
    "    print()\n",
    "    print(\"Trapezoid method value:\", int_value_trapezoid)\n",
    "    print(\"Error:\", abs(int_value_approx - int_value_trapezoid))\n",
    "    print()\n",
    "    print(\"Simpson's method value:\", int_value_simpson)\n",
    "    print(\"Error:\", abs(int_value_approx - int_value_simpson))\n",
    "    print(\"---------------------------------------\")"
   ]
  },
  {
   "cell_type": "markdown",
   "metadata": {},
   "source": [
    "Интересный факт: данный интеграл практически является Гамма-функцией от 3/2. Различие лишь в том, что у Гамма-функции в верхнем пределе стоит бесконечность. По сути, можно сказать, что вычисленный интеграл аппроксимирует $\\Gamma(\\frac{3}{2})$.\n",
    "\n",
    "Как мы видим, формула прямоугольников лучше остальных методов аппроксимирует интеграл при малом значении шагов. Однако это далеко не всегда так, потому стоит смотреть на то, как ведет себя ошибка при увеличении количества узлов. А при увеличении количества узлов в итоге лучшим остается метод Симпсона. Результат согласуется с теорией, потому что формула Симпсона имеет наибольший порядок погрешности. Также можно отметить, что метод прямоугольников имеет меньшую ошибку, чем метод трапеций, у которых один порядок погрешности, что тоже согалсуется с теорией, поскольку их погрешности различаются ровно в два раза, что подтверждается экспериментально при достаточно больших n."
   ]
  }
 ],
 "metadata": {
  "kernelspec": {
   "display_name": "Python 3 (ipykernel)",
   "language": "python",
   "name": "python3"
  },
  "language_info": {
   "codemirror_mode": {
    "name": "ipython",
    "version": 3
   },
   "file_extension": ".py",
   "mimetype": "text/x-python",
   "name": "python",
   "nbconvert_exporter": "python",
   "pygments_lexer": "ipython3",
   "version": "3.11.6"
  }
 },
 "nbformat": 4,
 "nbformat_minor": 4
}
